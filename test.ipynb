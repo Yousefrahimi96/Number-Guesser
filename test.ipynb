{
 "cells": [
  {
   "cell_type": "code",
   "execution_count": 5,
   "metadata": {},
   "outputs": [],
   "source": [
    "import random"
   ]
  },
  {
   "cell_type": "code",
   "execution_count": 2,
   "metadata": {},
   "outputs": [],
   "source": [
    "def validation(input_number):\n",
    "    if not input_number.isdigit():\n",
    "        print(\"Please inter the valid number\")\n",
    "        return False\n",
    "    input_number = int(input_number)\n",
    "    if input_number > 100 or input_number < 1:\n",
    "        print(\"Please inter the number between 1 and 100\")\n",
    "        return False\n",
    "    \n",
    "    return True"
   ]
  },
  {
   "cell_type": "code",
   "execution_count": null,
   "metadata": {},
   "outputs": [],
   "source": [
    "def start_game():\n",
    "    random_number = random.randint(1, 100)\n",
    "    \n",
    "    while True:\n",
    "        input_number = input()\n",
    "        if input_number == \"q\":\n",
    "            print(\"Thank you for playing, Good bye\")\n",
    "            break\n",
    "        \n",
    "        if not validation(input_number):\n",
    "            print(\"please inter the valid number\")\n",
    "            continue\n",
    "        \n",
    "        input_number = int(input_number)\n",
    "        if input_number == random_number:\n",
    "            print(\"well done, good luck\")\n",
    "            break\n",
    "        elif input_number > random_number:\n",
    "            print(\"your guess is too high\")\n",
    "            continue\n",
    "        else:\n",
    "            print(\"your guess is too low\")\n",
    "            continue\n",
    "    \n",
    "\n",
    "if __name__ == '__main__':\n",
    "    start_game()\n",
    "        \n",
    "    \n",
    "            \n",
    "        "
   ]
  },
  {
   "cell_type": "code",
   "execution_count": 5,
   "metadata": {},
   "outputs": [],
   "source": [
    "def validation(input_number):\n",
    "    while True:\n",
    "        if not input_number.isdigit():\n",
    "            return False\n",
    "        input_number = int(input_number)\n",
    "        if (input_number > 100) or (input_number < 1):\n",
    "            print(\"Please inter te number between 1 and 100: \")\n",
    "            return False"
   ]
  },
  {
   "cell_type": "code",
   "execution_count": 6,
   "metadata": {},
   "outputs": [
    {
     "ename": "AttributeError",
     "evalue": "'int' object has no attribute 'isdigit'",
     "output_type": "error",
     "traceback": [
      "\u001b[0;31m---------------------------------------------------------------------------\u001b[0m",
      "\u001b[0;31mAttributeError\u001b[0m                            Traceback (most recent call last)",
      "Cell \u001b[0;32mIn[6], line 1\u001b[0m\n\u001b[0;32m----> 1\u001b[0m \u001b[43mvalidation\u001b[49m\u001b[43m(\u001b[49m\u001b[38;5;241;43m10\u001b[39;49m\u001b[43m)\u001b[49m\n",
      "Cell \u001b[0;32mIn[5], line 3\u001b[0m, in \u001b[0;36mvalidation\u001b[0;34m(input_number)\u001b[0m\n\u001b[1;32m      1\u001b[0m \u001b[38;5;28;01mdef\u001b[39;00m\u001b[38;5;250m \u001b[39m\u001b[38;5;21mvalidation\u001b[39m(input_number):\n\u001b[1;32m      2\u001b[0m     \u001b[38;5;28;01mwhile\u001b[39;00m \u001b[38;5;28;01mTrue\u001b[39;00m:\n\u001b[0;32m----> 3\u001b[0m         \u001b[38;5;28;01mif\u001b[39;00m \u001b[38;5;129;01mnot\u001b[39;00m \u001b[43minput_number\u001b[49m\u001b[38;5;241;43m.\u001b[39;49m\u001b[43misdigit\u001b[49m():\n\u001b[1;32m      4\u001b[0m             \u001b[38;5;28;01mreturn\u001b[39;00m \u001b[38;5;28;01mFalse\u001b[39;00m\n\u001b[1;32m      5\u001b[0m         input_number \u001b[38;5;241m=\u001b[39m \u001b[38;5;28mint\u001b[39m(input_number)\n",
      "\u001b[0;31mAttributeError\u001b[0m: 'int' object has no attribute 'isdigit'"
     ]
    }
   ],
   "source": [
    "validation(10)"
   ]
  },
  {
   "cell_type": "code",
   "execution_count": null,
   "metadata": {},
   "outputs": [],
   "source": []
  }
 ],
 "metadata": {
  "kernelspec": {
   "display_name": "yousef",
   "language": "python",
   "name": "python3"
  },
  "language_info": {
   "codemirror_mode": {
    "name": "ipython",
    "version": 3
   },
   "file_extension": ".py",
   "mimetype": "text/x-python",
   "name": "python",
   "nbconvert_exporter": "python",
   "pygments_lexer": "ipython3",
   "version": "3.13.1"
  }
 },
 "nbformat": 4,
 "nbformat_minor": 2
}
